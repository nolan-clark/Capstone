{
 "cells": [
  {
   "cell_type": "markdown",
   "id": "70a36bba-bc3a-47aa-b097-43ed432d18bf",
   "metadata": {},
   "source": [
    "# TF-IDF Pipeline\n",
    "\n",
    "* Feature extraction: TF-IDF of bigrams and trigrams"
   ]
  },
  {
   "cell_type": "code",
   "execution_count": 1,
   "id": "eecbeaeb-fa9d-4f69-978d-82815c74d63c",
   "metadata": {},
   "outputs": [
    {
     "ename": "ModuleNotFoundError",
     "evalue": "No module named 'utils'",
     "output_type": "error",
     "traceback": [
      "\u001b[0;31m---------------------------------------------------------------------------\u001b[0m",
      "\u001b[0;31mModuleNotFoundError\u001b[0m                       Traceback (most recent call last)",
      "Cell \u001b[0;32mIn[1], line 1\u001b[0m\n\u001b[0;32m----> 1\u001b[0m \u001b[38;5;28;01mimport\u001b[39;00m \u001b[38;5;21;01mutils\u001b[39;00m\n\u001b[1;32m      2\u001b[0m \u001b[38;5;28;01mfrom\u001b[39;00m \u001b[38;5;21;01msklearn\u001b[39;00m\u001b[38;5;21;01m.\u001b[39;00m\u001b[38;5;21;01mfeature_extraction\u001b[39;00m\u001b[38;5;21;01m.\u001b[39;00m\u001b[38;5;21;01mtext\u001b[39;00m \u001b[38;5;28;01mimport\u001b[39;00m TfidfVectorizer, CountVectorizer\n\u001b[1;32m      3\u001b[0m \u001b[38;5;28;01mimport\u001b[39;00m \u001b[38;5;21;01mpandas\u001b[39;00m \u001b[38;5;28;01mas\u001b[39;00m \u001b[38;5;21;01mpd\u001b[39;00m\n",
      "\u001b[0;31mModuleNotFoundError\u001b[0m: No module named 'utils'"
     ]
    }
   ],
   "source": [
    "import utils\n",
    "from sklearn.feature_extraction.text import TfidfVectorizer, CountVectorizer\n",
    "import pandas as pd"
   ]
  },
  {
   "cell_type": "code",
   "execution_count": 2,
   "id": "4b1546ff-4825-4ea6-b8b0-2235f388cca8",
   "metadata": {},
   "outputs": [],
   "source": [
    "# import data\n",
    "fold = \"DATA/llm-detect-ai-generated-text/\"\n",
    "\n",
    "df = pd.read_csv(f'{fold}dataset_8_2.csv')"
   ]
  },
  {
   "cell_type": "code",
   "execution_count": 3,
   "id": "96fe56ed-8120-46bf-a62a-0e82cae65f90",
   "metadata": {},
   "outputs": [
    {
     "data": {
      "text/plain": [
       "0    14696\n",
       "1    10363\n",
       "Name: label, dtype: int64"
      ]
     },
     "execution_count": 3,
     "metadata": {},
     "output_type": "execute_result"
    }
   ],
   "source": [
    "df['label'].value_counts()"
   ]
  },
  {
   "cell_type": "code",
   "execution_count": 4,
   "id": "4e3d557a-8075-4f0d-8c6f-7769fc88915b",
   "metadata": {},
   "outputs": [],
   "source": [
    "txt1 = utils.tokenize_stems(df)"
   ]
  },
  {
   "cell_type": "code",
   "execution_count": 5,
   "id": "d4880ab8-bbf1-41dd-be61-e805916d92e5",
   "metadata": {},
   "outputs": [],
   "source": [
    "# Set thresholds for TF-IDF of bigrams and trigrams\n",
    "MIN = 0.02\n",
    "MAX = 1.0\n",
    "\n",
    "vectorizer = CountVectorizer(ngram_range=(2,3), min_df=MIN, max_df=MAX\n",
    "                            )\n",
    "X1 = vectorizer.fit_transform(txt1)\n",
    "features = vectorizer.get_feature_names()"
   ]
  },
  {
   "cell_type": "code",
   "execution_count": 6,
   "id": "a44fa607-d898-4a6d-8ce9-22b57a2936f1",
   "metadata": {},
   "outputs": [],
   "source": [
    "vectorizer = TfidfVectorizer(ngram_range=(2,3), min_df=MIN, max_df=MAX\n",
    "                            )\n",
    "X2 = vectorizer.fit_transform(txt1)\n",
    "scores = X2.toarray()"
   ]
  },
  {
   "cell_type": "code",
   "execution_count": 7,
   "id": "f4f981a3-09ab-430b-83fd-6dddb5252203",
   "metadata": {},
   "outputs": [],
   "source": [
    "sums = X2.sum(axis=0)\n",
    "data1 = []\n",
    "\n",
    "for col, term in enumerate(features):\n",
    "    data1.append((term, sums[0,col]))"
   ]
  },
  {
   "cell_type": "code",
   "execution_count": 8,
   "id": "97b9ba29-415d-44b4-b4cc-79255b13ff09",
   "metadata": {},
   "outputs": [
    {
     "name": "stdout",
     "output_type": "stream",
     "text": [
      "(562, 2)\n"
     ]
    }
   ],
   "source": [
    "ranking = pd.DataFrame(data1, columns = ['term','rank'])\n",
    "words = ranking.sort_values('rank', ascending = False)\n",
    "\n",
    "print(words.shape)"
   ]
  },
  {
   "cell_type": "code",
   "execution_count": 9,
   "id": "cc508a7d-3000-4e4b-92b7-204acd689c17",
   "metadata": {},
   "outputs": [],
   "source": [
    "# TF-IDF Dataframe \n",
    "tfidf_df = pd.DataFrame(X2.toarray(),columns=vectorizer.get_feature_names())"
   ]
  },
  {
   "cell_type": "code",
   "execution_count": 10,
   "id": "a27dbf6c-5e2c-4ddb-8c7a-071d9e659f73",
   "metadata": {},
   "outputs": [
    {
     "data": {
      "text/plain": [
       "driverless car           2512.600503\n",
       "elector colleg           1873.954594\n",
       "seago cowboy             1583.377827\n",
       "face mar                 1076.411436\n",
       "car usag                  962.899560\n",
       "                            ...     \n",
       "conclus limit car          59.614180\n",
       "benefit limit car          58.621743\n",
       "usag numer                 57.804374\n",
       "car usag numer             54.606850\n",
       "write express opinion      54.083073\n",
       "Length: 562, dtype: float64"
      ]
     },
     "execution_count": 10,
     "metadata": {},
     "output_type": "execute_result"
    }
   ],
   "source": [
    "(tfidf_df).sum().sort_values(ascending=False)"
   ]
  }
 ],
 "metadata": {
  "kernelspec": {
   "display_name": "Python 3 (ipykernel)",
   "language": "python",
   "name": "python3"
  },
  "language_info": {
   "codemirror_mode": {
    "name": "ipython",
    "version": 3
   },
   "file_extension": ".py",
   "mimetype": "text/x-python",
   "name": "python",
   "nbconvert_exporter": "python",
   "pygments_lexer": "ipython3",
   "version": "3.8.18"
  }
 },
 "nbformat": 4,
 "nbformat_minor": 5
}

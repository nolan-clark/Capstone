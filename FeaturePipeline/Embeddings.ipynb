{
 "cells": [
  {
   "cell_type": "markdown",
   "id": "45dfdc64",
   "metadata": {},
   "source": [
    "# Word Embeddings Pipeline\n",
    "\n",
    "* Extract CLS embedding layer of hidden states\n",
    "    * Run on Apple Metal ('mps')"
   ]
  },
  {
   "cell_type": "code",
   "execution_count": 1,
   "id": "d0ab2735",
   "metadata": {},
   "outputs": [],
   "source": [
    "import torch\n",
    "import pandas as pd\n",
    "from transformers import AutoModel, AutoTokenizer\n",
    "from tqdm import tqdm"
   ]
  },
  {
   "cell_type": "code",
   "execution_count": 2,
   "id": "f8f67bf6",
   "metadata": {},
   "outputs": [],
   "source": [
    "fold = \"DATA/llm-detect-ai-generated-text/\"\n",
    "\n",
    "df = pd.read_csv(f'{fold}final_data_text_ref.csv')\n",
    "df['text']=df['text'].apply(lambda x : x.strip())"
   ]
  },
  {
   "cell_type": "code",
   "execution_count": 3,
   "id": "118b4162",
   "metadata": {},
   "outputs": [],
   "source": [
    "MODEL_NAME = 'allenai/longformer-base-4096'\n",
    "#MODEL_NAME = 'distilbert-base-uncased'\n",
    "\n",
    "device = torch.device('mps' if torch.backends.mps.is_available() else 'cpu')\n",
    "model = AutoModel.from_pretrained(MODEL_NAME).to(device)\n",
    "tokenizer = AutoTokenizer.from_pretrained(MODEL_NAME, use_fast=True)"
   ]
  },
  {
   "cell_type": "code",
   "execution_count": 4,
   "id": "5382c7ce",
   "metadata": {},
   "outputs": [],
   "source": [
    "def batch(iterable, n=1):\n",
    "    l = len(iterable)\n",
    "    for ndx in range(0,l,n):\n",
    "        yield iterable[ndx:min(ndx+n,l)]"
   ]
  },
  {
   "cell_type": "code",
   "execution_count": 5,
   "id": "9abdd3b3",
   "metadata": {},
   "outputs": [
    {
     "name": "stderr",
     "output_type": "stream",
     "text": [
      "100%|██████████| 784/784 [3:20:35<00:00, 15.35s/it]  \n"
     ]
    }
   ],
   "source": [
    "# Batching and Epochs\n",
    "\n",
    "outer=[]\n",
    "for i in tqdm(range(0,len(df),32)):\n",
    "    corpus=df['text'][i:i+32]\n",
    "    inner=[]\n",
    "    for epoch in batch(corpus, 16):\n",
    "        tokenized_train = tokenizer(epoch.values.tolist(), \n",
    "                                    padding=True, \n",
    "                                    pad_to_multiple_of=512,\n",
    "                                    truncation = True,\n",
    "                                    max_length=4096, \n",
    "                                    return_tensors='pt')\n",
    "        tokenized_train = {k:v.detach().clone().to(device) for k,v in tokenized_train.items()}\n",
    "        with torch.no_grad():\n",
    "            hidden_train = model(**tokenized_train) #dim : [batch_size(nr_sentences), tokens, emb_dim]\n",
    "\n",
    "\n",
    "            # get only the [CLS] embeddings\n",
    "            cls_train = hidden_train.last_hidden_state[:,0,:]\n",
    "            inner.append(cls_train.to('cpu'))\n",
    "    outer.append(torch.cat(inner))\n"
   ]
  },
  {
   "cell_type": "code",
   "execution_count": 6,
   "id": "0652660c",
   "metadata": {},
   "outputs": [],
   "source": [
    "CLS_hidden_states=torch.cat(outer)"
   ]
  },
  {
   "cell_type": "code",
   "execution_count": 7,
   "id": "6bacd153",
   "metadata": {},
   "outputs": [
    {
     "data": {
      "text/plain": [
       "torch.Size([25059, 768])"
      ]
     },
     "execution_count": 7,
     "metadata": {},
     "output_type": "execute_result"
    }
   ],
   "source": [
    "CLS_hidden_states.shape"
   ]
  }
 ],
 "metadata": {
  "kernelspec": {
   "display_name": "Python 3 (ipykernel)",
   "language": "python",
   "name": "python3"
  },
  "language_info": {
   "codemirror_mode": {
    "name": "ipython",
    "version": 3
   },
   "file_extension": ".py",
   "mimetype": "text/x-python",
   "name": "python",
   "nbconvert_exporter": "python",
   "pygments_lexer": "ipython3",
   "version": "3.8.18"
  }
 },
 "nbformat": 4,
 "nbformat_minor": 5
}
